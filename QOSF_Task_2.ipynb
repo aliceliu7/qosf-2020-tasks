{
  "nbformat": 4,
  "nbformat_minor": 0,
  "metadata": {
    "colab": {
      "name": "QOSF Task 2.ipynb",
      "provenance": [],
      "collapsed_sections": [],
      "machine_shape": "hm",
      "authorship_tag": "ABX9TyMcg/xPIsBoHZsSxiZlxPlA",
      "include_colab_link": true
    },
    "kernelspec": {
      "name": "python3",
      "display_name": "Python 3"
    }
  },
  "cells": [
    {
      "cell_type": "markdown",
      "metadata": {
        "id": "view-in-github",
        "colab_type": "text"
      },
      "source": [
        "<a href=\"https://colab.research.google.com/github/aliceliu7/qosf-2020-tasks/blob/master/QOSF_Task_2.ipynb\" target=\"_parent\"><img src=\"https://colab.research.google.com/assets/colab-badge.svg\" alt=\"Open In Colab\"/></a>"
      ]
    },
    {
      "cell_type": "code",
      "metadata": {
        "id": "D_4Uxnbb9d7p"
      },
      "source": [
        "#installing packages: \n",
        "#pip install qiskit\n",
        "#pip install pennylane\n",
        "#!pip install pennylane pennylane-sf "
      ],
      "execution_count": 1,
      "outputs": []
    },
    {
      "cell_type": "code",
      "metadata": {
        "id": "r9EBMdZG9si_"
      },
      "source": [
        "import pennylane as qml\n",
        "from pennylane import numpy as np\n",
        "import qiskit\n",
        "from qiskit import *\n",
        "from qiskit import QuantumCircuit, execute, Aer\n",
        "import qiskit.providers.aer.noise as noise\n",
        "# noinspection PyPep8Naming\n",
        "from random import uniform as randUniform\n",
        "from math import pi\n",
        "import matplotlib.pyplot as plt\n",
        "\n",
        "import pennylane as qml\n",
        "from pennylane import numpy as np\n",
        "from qiskit import *\n",
        "from qiskit.quantum_info import Statevector\n",
        "import qiskit.providers.aer.noise as noise\n",
        "from qiskit.visualization import plot_histogram"
      ],
      "execution_count": null,
      "outputs": []
    },
    {
      "cell_type": "code",
      "metadata": {
        "id": "0K9iPSwJ9xg-"
      },
      "source": [
        "#Creating the device and target state> \n",
        "dev = qml.device(\"default.qubit\", wires = 2, shots = 500, analytic = False)\n",
        "@qml.qnode(dev)\n",
        "\n",
        "#Quantum circuit with the parameters list containing angles for the rotation gates to be optimized \n",
        "def circuit(params):\n",
        "    qml.RX(params[0], wires=1)\n",
        "    qml.RY(params[1], wires=0)\n",
        "    qml.CNOT(wires=[0,1])\n",
        "    return qml.probs(wires=[0,1])"
      ],
      "execution_count": null,
      "outputs": []
    },
    {
      "cell_type": "code",
      "metadata": {
        "id": "47A_nFCW-g97"
      },
      "source": [
        "#Cost function: \n",
        "def cost(x):\n",
        "    p = circuit(x)\n",
        "    return p[0]**2 + (0.5-p[1])**2 + (0.5-p[2])**2 + p[3]**2"
      ],
      "execution_count": null,
      "outputs": []
    },
    {
      "cell_type": "code",
      "metadata": {
        "id": "MOgZnDnO_NIF",
        "outputId": "2908182d-f232-4743-eb6f-094b03e83b74",
        "colab": {
          "base_uri": "https://localhost:8080/",
          "height": 51
        }
      },
      "source": [
        "#Setting random initial parameter values to test the cost function\n",
        "init_params = np.random.rand(2) \n",
        "print('Initial parameters are: ', init_params)\n",
        "print('Cost value of initial parameters is: ', cost(init_params))"
      ],
      "execution_count": null,
      "outputs": [
        {
          "output_type": "stream",
          "text": [
            "Initial parameters are:  [0.22943205 0.78320503]\n",
            "Cost value of initial parameters is:  1.2046\n"
          ],
          "name": "stdout"
        }
      ]
    },
    {
      "cell_type": "code",
      "metadata": {
        "id": "seF1WIw0_ONp",
        "outputId": "3502c531-063d-4680-e26e-49f699b2f0fc",
        "colab": {
          "base_uri": "https://localhost:8080/",
          "height": 119
        }
      },
      "source": [
        "#Using the gradient descent optimizer to create a loop for evaluation of the cost function with the changing parameter values\n",
        "opt = qml.GradientDescentOptimizer(stepsize=0.1)\n",
        "    \n",
        "steps = 500\n",
        "    \n",
        "params = init_params\n",
        "\n",
        "for i in range(steps):\n",
        "    params = opt.step(cost,params)\n",
        "    \n",
        "    if (i + 1) % 100 == 0:\n",
        "        print(\"Cost after step {:5d}: {: .7f}\".format(i + 1, cost(params)))\n",
        "\n",
        "print(\"Optimized rotation angles: {}\".format(params))"
      ],
      "execution_count": null,
      "outputs": [
        {
          "output_type": "stream",
          "text": [
            "Cost after step   100:  0.0068160\n",
            "Cost after step   200:  0.0067760\n",
            "Cost after step   300:  0.0015600\n",
            "Cost after step   400:  0.0005840\n",
            "Cost after step   500:  0.0011760\n",
            "Optimized rotation angles: [2.93584925 1.56742303]\n"
          ],
          "name": "stdout"
        }
      ]
    },
    {
      "cell_type": "code",
      "metadata": {
        "id": "QgZTLjx2_P3y",
        "outputId": "b8fc5446-2fe6-4e13-d78f-c19e86c29295",
        "colab": {
          "base_uri": "https://localhost:8080/",
          "height": 122
        }
      },
      "source": [
        "#Quantum circuit with the optimized rotation angles \n",
        "circ=qiskit.QuantumCircuit(2,2)\n",
        "circ.rx(params[0],1)\n",
        "circ.ry(params[1], 0)\n",
        "circ.cnot(0,1)\n",
        "circ.barrier(range(2))\n",
        "circ.measure(range(2),range(2))\n",
        "circ.draw()"
      ],
      "execution_count": null,
      "outputs": [
        {
          "output_type": "execute_result",
          "data": {
            "text/html": [
              "<pre style=\"word-wrap: normal;white-space: pre;background: #fff0;line-height: 1.1;font-family: &quot;Courier New&quot;,Courier,monospace\">     ┌────────────┐      ░ ┌─┐   \n",
              "q_0: ┤ RY(1.5674) ├──■───░─┤M├───\n",
              "     ├────────────┤┌─┴─┐ ░ └╥┘┌─┐\n",
              "q_1: ┤ RX(2.9358) ├┤ X ├─░──╫─┤M├\n",
              "     └────────────┘└───┘ ░  ║ └╥┘\n",
              "c: 2/═══════════════════════╩══╩═\n",
              "                            0  1 </pre>"
            ],
            "text/plain": [
              "     ┌────────────┐      ░ ┌─┐   \n",
              "q_0: ┤ RY(1.5674) ├──■───░─┤M├───\n",
              "     ├────────────┤┌─┴─┐ ░ └╥┘┌─┐\n",
              "q_1: ┤ RX(2.9358) ├┤ X ├─░──╫─┤M├\n",
              "     └────────────┘└───┘ ░  ║ └╥┘\n",
              "c: 2/═══════════════════════╩══╩═\n",
              "                            0  1 "
            ]
          },
          "metadata": {
            "tags": []
          },
          "execution_count": 9
        }
      ]
    },
    {
      "cell_type": "code",
      "metadata": {
        "id": "olsOl2bX_R5u"
      },
      "source": [
        "from qiskit.providers.aer.noise import NoiseModel\n",
        "import qiskit.providers.aer.noise as noise\n",
        "import qiskit.providers.aer.noise.errors.standard_errors\n",
        "\n",
        "#error probabilities: \n",
        "prob_1 = 0.001  # 1-qubit gate\n",
        "prob_2 = 0.01   # 2-qubit gate\n",
        "\n",
        "#depolarizing quantum errors\n",
        "error_1 = noise.depolarizing_error(prob_1, 1)\n",
        "error_2 = noise.depolarizing_error(prob_2, 2)\n",
        "\n",
        "#add errors to noise model\n",
        "noise_model = noise.NoiseModel()\n",
        "noise_model.add_all_qubit_quantum_error(error_1, ['rx', 'ry'])\n",
        "noise_model.add_all_qubit_quantum_error(error_2, ['cx'])"
      ],
      "execution_count": null,
      "outputs": []
    },
    {
      "cell_type": "code",
      "metadata": {
        "id": "diokOdlW_TOl",
        "outputId": "3d655834-8fdc-445d-f3fe-6d737cbbb314",
        "colab": {
          "base_uri": "https://localhost:8080/",
          "height": 331
        }
      },
      "source": [
        "#Defining the simulator and configuring it \n",
        "#The circuit is executed with 1, 10, 100 and 1000 shots\n",
        "\n",
        "shots = [1,10,100,1000]\n",
        "counts_list = []\n",
        "for shot in shots:\n",
        "    backend = Aer.get_backend('qasm_simulator')\n",
        "    job = execute(circ,backend=backend,shots=shot)\n",
        "    counts = job.result().get_counts()\n",
        "    counts_list.append(counts)\n",
        "plot_histogram(counts_list, legend =['1', '10', '100', '1000'])\n"
      ],
      "execution_count": null,
      "outputs": [
        {
          "output_type": "execute_result",
          "data": {
            "image/png": "[encoded data removed]",
            "text/plain": [
              "<Figure size 504x360 with 1 Axes>"
            ]
          },
          "metadata": {
            "tags": []
          },
          "execution_count": 13
        }
      ]
    },
    {
      "cell_type": "code",
      "metadata": {
        "id": "fmS0nywT_VMV",
        "outputId": "7105a89a-5795-4976-8e99-fa2e993916af",
        "colab": {
          "base_uri": "https://localhost:8080/",
          "height": 365
        }
      },
      "source": [
        "backend_sim = qiskit.Aer.get_backend('qasm_simulator')\n",
        "noise_model = qiskit.providers.aer.noise.NoiseModel()\n",
        "backend_ops = {\"method\": \"automatic\"}\n",
        "\n",
        "job_sim = qiskit.execute(circ, backend_sim, shots=1, backend_options=backend_ops, noise_model=noise_model)\n",
        "\n",
        "result = job_sim.result()\n",
        "counts = result.get_counts(circ)\n",
        "\n",
        "print('1 measurement result:')\n",
        "print(counts)\n",
        "qiskit.visualization.plot_histogram(counts)"
      ],
      "execution_count": null,
      "outputs": [
        {
          "output_type": "stream",
          "text": [
            "1 measurement result:\n",
            "{'10': 1}\n"
          ],
          "name": "stdout"
        },
        {
          "output_type": "execute_result",
          "data": {
            "image/png": "[encoded data removed]",
            "text/plain": [
              "<Figure size 504x360 with 1 Axes>"
            ]
          },
          "metadata": {
            "tags": []
          },
          "execution_count": 14
        }
      ]
    },
    {
      "cell_type": "code",
      "metadata": {
        "id": "vD0yWIQw_9p5",
        "outputId": "c932540c-4a4b-4631-c9ba-1c4bd39e7456",
        "colab": {
          "base_uri": "https://localhost:8080/",
          "height": 365
        }
      },
      "source": [
        "job_sim = qiskit.execute(circ, backend_sim, shots=10, backend_options=backend_ops, noise_model=noise_model)\n",
        "\n",
        "result = job_sim.result()\n",
        "counts = result.get_counts(circ)\n",
        "\n",
        "print('10 measurements result:')\n",
        "print(counts)\n",
        "qiskit.visualization.plot_histogram(counts)"
      ],
      "execution_count": null,
      "outputs": [
        {
          "output_type": "stream",
          "text": [
            "10 measurements result:\n",
            "{'01': 2, '10': 8}\n"
          ],
          "name": "stdout"
        },
        {
          "output_type": "execute_result",
          "data": {
            "image/png": "[encoded data removed]",
            "text/plain": [
              "<Figure size 504x360 with 1 Axes>"
            ]
          },
          "metadata": {
            "tags": []
          },
          "execution_count": 15
        }
      ]
    },
    {
      "cell_type": "code",
      "metadata": {
        "id": "plK-srdPAIi7",
        "outputId": "c7ec48e3-40cc-4a09-e7ba-d6a896d9e4ba",
        "colab": {
          "base_uri": "https://localhost:8080/",
          "height": 365
        }
      },
      "source": [
        "job_sim = qiskit.execute(circ, backend_sim, shots=100, backend_options=backend_ops, noise_model=noise_model)\n",
        "\n",
        "result = job_sim.result()\n",
        "counts = result.get_counts(circ)\n",
        "\n",
        "print('100 measurements result:')\n",
        "print(counts)\n",
        "qiskit.visualization.plot_histogram(counts)"
      ],
      "execution_count": null,
      "outputs": [
        {
          "output_type": "stream",
          "text": [
            "100 measurements result:\n",
            "{'01': 53, '10': 45, '11': 2}\n"
          ],
          "name": "stdout"
        },
        {
          "output_type": "execute_result",
          "data": {
            "image/png": "[encoded data removed]",
            "text/plain": [
              "<Figure size 504x360 with 1 Axes>"
            ]
          },
          "metadata": {
            "tags": []
          },
          "execution_count": 16
        }
      ]
    },
    {
      "cell_type": "code",
      "metadata": {
        "id": "8yRyFZjVAR_4",
        "outputId": "2ec6a4fc-8737-4405-d72f-fd35fe438646",
        "colab": {
          "base_uri": "https://localhost:8080/",
          "height": 365
        }
      },
      "source": [
        "job_sim = qiskit.execute(circ, backend_sim, shots=1000, backend_options=backend_ops, noise_model=noise_model)\n",
        "\n",
        "result = job_sim.result()\n",
        "counts = result.get_counts(circ)\n",
        "\n",
        "print('1000 measurements result:')\n",
        "print(counts)\n",
        "qiskit.visualization.plot_histogram(counts)"
      ],
      "execution_count": null,
      "outputs": [
        {
          "output_type": "stream",
          "text": [
            "1000 measurements result:\n",
            "{'00': 7, '01': 510, '10': 481, '11': 2}\n"
          ],
          "name": "stdout"
        },
        {
          "output_type": "execute_result",
          "data": {
            "image/png": "[encoded data removed]",
            "text/plain": [
              "<Figure size 504x360 with 1 Axes>"
            ]
          },
          "metadata": {
            "tags": []
          },
          "execution_count": 17
        }
      ]
    }
  ]
}