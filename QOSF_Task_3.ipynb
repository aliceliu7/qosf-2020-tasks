{
  "nbformat": 4,
  "nbformat_minor": 0,
  "metadata": {
    "colab": {
      "name": "QOSF Task 3.ipynb",
      "provenance": [],
      "machine_shape": "hm",
      "authorship_tag": "ABX9TyNSPYNNEn7alUhFbzZRkTfB"
    },
    "kernelspec": {
      "name": "python3",
      "display_name": "Python 3"
    }
  },
  "cells": [
    {
      "cell_type": "code",
      "metadata": {
        "id": "8KJqY3GhL1gp"
      },
      "source": [
        "#Install Packages: \n",
        "#pip install qiskit"
      ],
      "execution_count": 58,
      "outputs": []
    },
    {
      "cell_type": "code",
      "metadata": {
        "id": "0Q7J1rnrL8SF"
      },
      "source": [
        "import numpy as np\n",
        "from math import pi\n",
        "from qiskit import QuantumCircuit, QuantumRegister, ClassicalRegister, Aer, execute\n",
        "#from qiskit.circuit.library.standard_gates import YGate, RYGate, RXGate, RZGate\n",
        "from qiskit.converters import circuit_to_dag"
      ],
      "execution_count": 31,
      "outputs": []
    },
    {
      "cell_type": "code",
      "metadata": {
        "id": "UzLA-mvbOb9s",
        "outputId": "b2aa5f6d-cc26-4436-b73b-616f99f06991",
        "colab": {
          "base_uri": "https://localhost:8080/",
          "height": 307
        }
      },
      "source": [
        "#Generating basic circuit example with H, I, Y, S, CNOT, RX, RY, RZ, CZ, x, y, z gates\n",
        "q = QuantumRegister(3, 'q')\n",
        "c = ClassicalRegister(3, 'c')\n",
        "circ = QuantumCircuit(q, c)\n",
        "\n",
        "circ.rx(pi/3,0)\n",
        "circ.h(1)\n",
        "circ.i(0)\n",
        "circ.y(2)\n",
        "circ.y(0)\n",
        "circ.y(1)\n",
        "circ.s(0)\n",
        "circ.cnot(1,0)\n",
        "circ.cnot(1,0)\n",
        "circ.x(0)\n",
        "circ.x(1)\n",
        "circ.z(2)\n",
        "circ.z(0)\n",
        "circ.rx(pi/2,1)\n",
        "circ.ry(pi/3,2)\n",
        "circ.rx(pi/6,1)\n",
        "circ.rz(pi/4,0)\n",
        "circ.cz(1,2)\n",
        "circ.draw()"
      ],
      "execution_count": 52,
      "outputs": [
        {
          "output_type": "execute_result",
          "data": {
            "text/html": [
              "<pre style=\"word-wrap: normal;white-space: pre;background: #fff0;line-height: 1.1;font-family: &quot;Courier New&quot;,Courier,monospace\">     ┌──────────┐┌───┐   ┌───┐    ┌───┐┌───┐┌───┐┌───┐   ┌───┐    ┌──────────┐»\n",
              "q_0: ┤ RX(pi/3) ├┤ I ├───┤ Y ├────┤ S ├┤ X ├┤ X ├┤ X ├───┤ Z ├────┤ RZ(pi/4) ├»\n",
              "     └──┬───┬───┘├───┤   └───┘    └───┘└─┬─┘└─┬─┘├───┤┌──┴───┴───┐├──────────┤»\n",
              "q_1: ───┤ H ├────┤ Y ├───────────────────■────■──┤ X ├┤ RX(pi/2) ├┤ RX(pi/6) ├»\n",
              "        ├───┤    ├───┤┌──────────┐               └───┘└──────────┘└──────────┘»\n",
              "q_2: ───┤ Y ├────┤ Z ├┤ RY(pi/3) ├────────────────────────────────────────────»\n",
              "        └───┘    └───┘└──────────┘                                            »\n",
              "c: 3/═════════════════════════════════════════════════════════════════════════»\n",
              "                                                                              »\n",
              "«        \n",
              "«q_0: ───\n",
              "«        \n",
              "«q_1: ─■─\n",
              "«      │ \n",
              "«q_2: ─■─\n",
              "«        \n",
              "«c: 3/═══\n",
              "«        </pre>"
            ],
            "text/plain": [
              "     ┌──────────┐┌───┐   ┌───┐    ┌───┐┌───┐┌───┐┌───┐   ┌───┐    ┌──────────┐»\n",
              "q_0: ┤ RX(pi/3) ├┤ I ├───┤ Y ├────┤ S ├┤ X ├┤ X ├┤ X ├───┤ Z ├────┤ RZ(pi/4) ├»\n",
              "     └──┬───┬───┘├───┤   └───┘    └───┘└─┬─┘└─┬─┘├───┤┌──┴───┴───┐├──────────┤»\n",
              "q_1: ───┤ H ├────┤ Y ├───────────────────■────■──┤ X ├┤ RX(pi/2) ├┤ RX(pi/6) ├»\n",
              "        ├───┤    ├───┤┌──────────┐               └───┘└──────────┘└──────────┘»\n",
              "q_2: ───┤ Y ├────┤ Z ├┤ RY(pi/3) ├────────────────────────────────────────────»\n",
              "        └───┘    └───┘└──────────┘                                            »\n",
              "c: 3/═════════════════════════════════════════════════════════════════════════»\n",
              "                                                                              »\n",
              "«        \n",
              "«q_0: ───\n",
              "«        \n",
              "«q_1: ─■─\n",
              "«      │ \n",
              "«q_2: ─■─\n",
              "«        \n",
              "«c: 3/═══\n",
              "«        "
            ]
          },
          "metadata": {
            "tags": []
          },
          "execution_count": 52
        }
      ]
    },
    {
      "cell_type": "code",
      "metadata": {
        "id": "zWiWyDEKL4M3"
      },
      "source": [
        "#Compiling the circuit - takes in the qubits on which to apply the gate on \n",
        "  #and if the gate changes a phase around the axis \n",
        "#Returns an equivalent combination of RX, RZ, CZ gates\n",
        "\n",
        "\n",
        "def compile_to_circuits(circ): \n",
        "    \n",
        "    comp_circ = QuantumCircuit(circ.qregs[0],circ.cregs[0])\n",
        "    \n",
        "    for gate in circ:\n",
        "        gate_name = gate[0].name\n",
        "        qubits = gate[1]\n",
        "        cbits = gate[2]\n",
        "        params = gate[0].params\n",
        "        \n",
        "        #\n",
        "        if gate_name == \"cz\":\n",
        "            comp_circ.cz(qubits[0],qubits[1])\n",
        "            \n",
        "        elif gate_name == \"rx\":\n",
        "            comp_circ.rx(params[0],qubits)\n",
        "\n",
        "        elif gate_name == \"rz\":\n",
        "            comp_circ.rz(params[0],qubits)\n",
        "       \n",
        "        #Gates that will be compiled into RX, RZ and CZ Gates: \n",
        "\n",
        "        elif gate_name == \"ry\":\n",
        "            #RY_theta gate = RX(pi/2), RX(-pi/2), or RZ(theta)\n",
        "            comp_circ.rx(params[0],qubits)\n",
        "            comp_circ.rz(-pi/2,qubits)\n",
        "            comp_circ.rz(pi/2,qubits)\n",
        "\n",
        "        elif gate_name == \"h\":\n",
        "            #H gate = RX(pi/2), RZ(pi/2)\n",
        "            comp_circ.rx(pi/2,qubits)\n",
        "            comp_circ.rz(pi/2,qubits)\n",
        "\n",
        "        elif gate_name == \"i\":\n",
        "            #I gate = RX(2pi), RY(2pi), RZ(2pi)\n",
        "            comp_circ.rx(2*pi,qubits)\n",
        "            comp_circ.rz(2*pi,qubits)\n",
        "              \n",
        "        elif gate_name == \"s\":\n",
        "            #S gate = RZ(pi/2)\n",
        "            comp_circ.rx(pi/2, qubits)  \n",
        "\n",
        "\n",
        "        elif gate_name == \"x\":\n",
        "            #X gate = RX(pi)\n",
        "            comp_circ.rx(pi, qubits)\n",
        "\n",
        "\n",
        "        elif gate_name == \"y\":\n",
        "            #Y gate = RY(pi), RZ(pi/2), RZ(-pi/2)\n",
        "            comp_circ.rz(-pi/2, qubits)\n",
        "            comp_circ.rz(pi/2, qubits)\n",
        "\n",
        "\n",
        "        elif gate_name == \"z\":\n",
        "            comp_circ.rz(pi, qubits)\n",
        "\n",
        "\n",
        "        elif gate_name == \"cx\":\n",
        "            comp_circ.rz(pi/2,qubits[1])\n",
        "            comp_circ.rx(pi/2,qubits[1])\n",
        "            comp_circ.cz(qubits[0],qubits[1])\n",
        "            \n",
        "    return comp_circ"
      ],
      "execution_count": 53,
      "outputs": []
    },
    {
      "cell_type": "code",
      "metadata": {
        "id": "PuZMpJV0L7uD",
        "outputId": "2c26e18d-61a1-420a-f543-932b6f51e0d1",
        "colab": {
          "base_uri": "https://localhost:8080/",
          "height": 422
        }
      },
      "source": [
        "#Compilation of a basic quantum circuit to a restricted gate set\n",
        "compiled_circ = compile_to_circuits(circ)\n",
        "compiled_circ.draw()"
      ],
      "execution_count": 54,
      "outputs": [
        {
          "output_type": "execute_result",
          "data": {
            "text/html": [
              "<pre style=\"word-wrap: normal;white-space: pre;background: #fff0;line-height: 1.1;font-family: &quot;Courier New&quot;,Courier,monospace\">      ┌──────────┐┌───────────┐ ┌──────────┐┌──────────┐ ┌──────────┐»\n",
              "q_0: ─┤ RX(pi/3) ├┤ RZ(-pi/2) ├─┤ RZ(pi/2) ├┤ RX(pi/2) ├─┤ RZ(pi/2) ├»\n",
              "      ├──────────┤└┬──────────┤┌┴──────────┤├──────────┤ └──────────┘»\n",
              "q_1: ─┤ RX(pi/2) ├─┤ RZ(pi/2) ├┤ RZ(-pi/2) ├┤ RZ(pi/2) ├─────────────»\n",
              "     ┌┴──────────┤ ├──────────┤└─┬────────┬┘├──────────┤┌───────────┐»\n",
              "q_2: ┤ RZ(-pi/2) ├─┤ RZ(pi/2) ├──┤ RZ(pi) ├─┤ RX(pi/3) ├┤ RZ(-pi/2) ├»\n",
              "     └───────────┘ └──────────┘  └────────┘ └──────────┘└───────────┘»\n",
              "c: 3/════════════════════════════════════════════════════════════════»\n",
              "                                                                     »\n",
              "«     ┌──────────┐   ┌──────────┐┌──────────┐   ┌────────┐ ┌────────┐ »\n",
              "«q_0: ┤ RX(pi/2) ├─■─┤ RZ(pi/2) ├┤ RX(pi/2) ├─■─┤ RX(pi) ├─┤ RZ(pi) ├─»\n",
              "«     └──────────┘ │ └──────────┘└──────────┘ │ ├────────┤┌┴────────┴┐»\n",
              "«q_1: ─────────────■──────────────────────────■─┤ RX(pi) ├┤ RX(pi/2) ├»\n",
              "«     ┌──────────┐                              └────────┘└──────────┘»\n",
              "«q_2: ┤ RZ(pi/2) ├────────────────────────────────────────────────────»\n",
              "«     └──────────┘                                                    »\n",
              "«c: 3/════════════════════════════════════════════════════════════════»\n",
              "«                                                                     »\n",
              "«     ┌──────────┐   \n",
              "«q_0: ┤ RZ(pi/4) ├───\n",
              "«     ├──────────┤   \n",
              "«q_1: ┤ RX(pi/6) ├─■─\n",
              "«     └──────────┘ │ \n",
              "«q_2: ─────────────■─\n",
              "«                    \n",
              "«c: 3/═══════════════\n",
              "«                    </pre>"
            ],
            "text/plain": [
              "      ┌──────────┐┌───────────┐ ┌──────────┐┌──────────┐ ┌──────────┐»\n",
              "q_0: ─┤ RX(pi/3) ├┤ RZ(-pi/2) ├─┤ RZ(pi/2) ├┤ RX(pi/2) ├─┤ RZ(pi/2) ├»\n",
              "      ├──────────┤└┬──────────┤┌┴──────────┤├──────────┤ └──────────┘»\n",
              "q_1: ─┤ RX(pi/2) ├─┤ RZ(pi/2) ├┤ RZ(-pi/2) ├┤ RZ(pi/2) ├─────────────»\n",
              "     ┌┴──────────┤ ├──────────┤└─┬────────┬┘├──────────┤┌───────────┐»\n",
              "q_2: ┤ RZ(-pi/2) ├─┤ RZ(pi/2) ├──┤ RZ(pi) ├─┤ RX(pi/3) ├┤ RZ(-pi/2) ├»\n",
              "     └───────────┘ └──────────┘  └────────┘ └──────────┘└───────────┘»\n",
              "c: 3/════════════════════════════════════════════════════════════════»\n",
              "                                                                     »\n",
              "«     ┌──────────┐   ┌──────────┐┌──────────┐   ┌────────┐ ┌────────┐ »\n",
              "«q_0: ┤ RX(pi/2) ├─■─┤ RZ(pi/2) ├┤ RX(pi/2) ├─■─┤ RX(pi) ├─┤ RZ(pi) ├─»\n",
              "«     └──────────┘ │ └──────────┘└──────────┘ │ ├────────┤┌┴────────┴┐»\n",
              "«q_1: ─────────────■──────────────────────────■─┤ RX(pi) ├┤ RX(pi/2) ├»\n",
              "«     ┌──────────┐                              └────────┘└──────────┘»\n",
              "«q_2: ┤ RZ(pi/2) ├────────────────────────────────────────────────────»\n",
              "«     └──────────┘                                                    »\n",
              "«c: 3/════════════════════════════════════════════════════════════════»\n",
              "«                                                                     »\n",
              "«     ┌──────────┐   \n",
              "«q_0: ┤ RZ(pi/4) ├───\n",
              "«     ├──────────┤   \n",
              "«q_1: ┤ RX(pi/6) ├─■─\n",
              "«     └──────────┘ │ \n",
              "«q_2: ─────────────■─\n",
              "«                    \n",
              "«c: 3/═══════════════\n",
              "«                    "
            ]
          },
          "metadata": {
            "tags": []
          },
          "execution_count": 54
        }
      ]
    },
    {
      "cell_type": "code",
      "metadata": {
        "id": "FMYcvTDxM9X_"
      },
      "source": [
        "#Checking if the original function is equal to the compiled function \n",
        "  #with dag and global phase\n",
        "\n",
        "def dag(M):\n",
        "    \n",
        "    M_dag = np.conj(M).T\n",
        "    return M_dag\n",
        "\n",
        "def global_phase(M1, M2):\n",
        "    P = M1.dot(dag(M2))\n",
        "    I = np.diag(np.ones(M1.shape[0]))\n",
        "    if P[0][0] == 0:\n",
        "        equal = False\n",
        "    else: \n",
        "        equal = np.allclose(I,P/P[0][0])\n",
        "    return equal"
      ],
      "execution_count": 55,
      "outputs": []
    },
    {
      "cell_type": "code",
      "metadata": {
        "id": "OLFTLXNGNQcP"
      },
      "source": [
        "#M_dag, M1, M2: numpy matrices \n",
        "#equal: if M1 and M2 are equivalent in global phase\n",
        "\n",
        "backend = Aer.get_backend('unitary_simulator')\n",
        "\n",
        "sim = execute(circ, backend)\n",
        "result = sim.result()\n",
        "U_circ = result.get_unitary(circ, decimals=3)\n",
        "\n",
        "sim_compiled = execute(compiled_circ, backend)\n",
        "result_compiled = sim_compiled.result()\n",
        "U_compiled_circ = result_compiled.get_unitary(compiled_circ, decimals=3)\n",
        "\n",
        "print(global_phase(U_circ, U_compiled_circ))"
      ],
      "execution_count": null,
      "outputs": []
    },
    {
      "cell_type": "code",
      "metadata": {
        "id": "YsttJjNuOvKL",
        "outputId": "2e6ede00-7160-432a-b9a7-13ee7780f1b2",
        "colab": {
          "base_uri": "https://localhost:8080/",
          "height": 51
        }
      },
      "source": [
        "print('Number of gates in original circuit: {0}'.format(circ.size()))\n",
        "print('Number of gates in compiled circuit: {0}'.format(compiled_circ.size()))"
      ],
      "execution_count": 57,
      "outputs": [
        {
          "output_type": "stream",
          "text": [
            "Number of gates in original circuit: 18\n",
            "Number of gates in compiled circuit: 27\n"
          ],
          "name": "stdout"
        }
      ]
    }
  ]
}